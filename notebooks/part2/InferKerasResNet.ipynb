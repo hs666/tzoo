{
 "cells": [
  {
   "cell_type": "code",
   "execution_count": 1,
   "metadata": {
    "ExecuteTime": {
     "end_time": "2018-04-03T13:35:56.282828Z",
     "start_time": "2018-04-03T13:35:56.278588Z"
    },
    "collapsed": true
   },
   "outputs": [],
   "source": [
    "# NOTE: export SPARK_DRIVER_MEMORY=1g"
   ]
  },
  {
   "cell_type": "code",
   "execution_count": 1,
   "metadata": {},
   "outputs": [
    {
     "name": "stderr",
     "output_type": "stream",
     "text": [
      "Using TensorFlow backend.\n"
     ]
    }
   ],
   "source": [
    "import keras\n",
    "from keras.applications import ResNet50\n",
    "from keras.applications import imagenet_utils"
   ]
  },
  {
   "cell_type": "markdown",
   "metadata": {},
   "source": [
    "* For resnet, we only support NCHW and Keras 1.2.2 for now"
   ]
  },
  {
   "cell_type": "code",
   "execution_count": 2,
   "metadata": {
    "collapsed": true
   },
   "outputs": [],
   "source": [
    "keras.backend.set_image_dim_ordering(\"th\")"
   ]
  },
  {
   "cell_type": "markdown",
   "metadata": {},
   "source": [
    "* Create ResNet50 using Keras"
   ]
  },
  {
   "cell_type": "code",
   "execution_count": 3,
   "metadata": {},
   "outputs": [
    {
     "name": "stdout",
     "output_type": "stream",
     "text": [
      "Downloading data from https://github.com/fchollet/deep-learning-models/releases/download/v0.2/resnet50_weights_th_dim_ordering_th_kernels.h5\n"
     ]
    },
    {
     "name": "stderr",
     "output_type": "stream",
     "text": [
      "/usr/local/lib/python2.7/dist-packages/keras/applications/resnet50.py:231: UserWarning: You are using the TensorFlow backend, yet you are using the Theano image dimension ordering convention (`image_dim_ordering=\"th\"`). For best performance, set `image_dim_ordering=\"tf\"` in your Keras config at ~/.keras/keras.json.\n",
      "  warnings.warn('You are using the TensorFlow backend, yet you '\n"
     ]
    }
   ],
   "source": [
    "keras_model = ResNet50(weights=\"imagenet\")"
   ]
  },
  {
   "cell_type": "markdown",
   "metadata": {},
   "source": [
    "* Init Analytics-zoo and spark environment"
   ]
  },
  {
   "cell_type": "code",
   "execution_count": 4,
   "metadata": {},
   "outputs": [
    {
     "name": "stdout",
     "output_type": "stream",
     "text": [
      "Using /home/lizhichao/bin/spark-2.1.0-bin-hadoop2.7\n",
      "Adding /home/lizhichao/bin/god/zoo/dist/lib/zoo-0.1.0-SNAPSHOT-jar-with-dependencies.jar to BIGDL_JARS\n",
      "Adding /home/lizhichao/bin/god/zoo/dist/lib/zoo-0.1.0-SNAPSHOT-jar-with-dependencies.jar to SPARK_CLASSPATH\n"
     ]
    }
   ],
   "source": [
    "from bigdl.keras.backend import *\n",
    "from bigdl.transform.vision.image import *\n",
    "from zoo.common.nncontext import *\n",
    "sc = get_nncontext()\n"
   ]
  },
  {
   "cell_type": "markdown",
   "metadata": {},
   "source": [
    "* Load a Keras definition and weights."
   ]
  },
  {
   "cell_type": "code",
   "execution_count": 5,
   "metadata": {},
   "outputs": [
    {
     "name": "stdout",
     "output_type": "stream",
     "text": [
      "creating: createInput\n"
     ]
    },
    {
     "name": "stderr",
     "output_type": "stream",
     "text": [
      "/home/lizhichao/bin/god/zoo/dist/lib/zoo-0.1.0-SNAPSHOT-python-api.zip/bigdl/keras/converter.py:791: UserWarning: Cannot find dim_ordering from json definition. Using the default instead.\n"
     ]
    },
    {
     "name": "stdout",
     "output_type": "stream",
     "text": [
      "creating: createSequential\n",
      "creating: createPadding\n",
      "creating: createPadding\n",
      "creating: createPadding\n",
      "creating: createPadding\n",
      "creating: createSpatialConvolution\n",
      "creating: createXavier\n",
      "creating: createZeros\n",
      "creating: createSpatialBatchNormalization\n",
      "creating: createReLU\n",
      "creating: createSpatialMaxPooling\n",
      "creating: createSpatialConvolution\n",
      "creating: createXavier\n",
      "creating: createZeros\n",
      "creating: createSpatialBatchNormalization\n",
      "creating: createReLU\n",
      "creating: createSpatialConvolution\n",
      "creating: createXavier\n",
      "creating: createZeros\n",
      "creating: createSpatialBatchNormalization\n",
      "creating: createReLU\n",
      "creating: createSpatialConvolution\n",
      "creating: createXavier\n",
      "creating: createZeros\n",
      "creating: createSpatialConvolution\n",
      "creating: createXavier\n",
      "creating: createZeros\n",
      "creating: createSpatialBatchNormalization\n",
      "creating: createSpatialBatchNormalization\n",
      "creating: createCAddTable\n",
      "creating: createReLU\n",
      "creating: createSpatialConvolution\n",
      "creating: createXavier\n",
      "creating: createZeros\n",
      "creating: createSpatialBatchNormalization\n",
      "creating: createReLU\n",
      "creating: createSpatialConvolution\n",
      "creating: createXavier\n",
      "creating: createZeros\n",
      "creating: createSpatialBatchNormalization\n",
      "creating: createReLU\n",
      "creating: createSpatialConvolution\n",
      "creating: createXavier\n",
      "creating: createZeros\n",
      "creating: createSpatialBatchNormalization\n",
      "creating: createCAddTable\n",
      "creating: createReLU\n",
      "creating: createSpatialConvolution\n",
      "creating: createXavier\n",
      "creating: createZeros\n",
      "creating: createSpatialBatchNormalization\n",
      "creating: createReLU\n",
      "creating: createSpatialConvolution\n",
      "creating: createXavier\n",
      "creating: createZeros\n",
      "creating: createSpatialBatchNormalization\n",
      "creating: createReLU\n",
      "creating: createSpatialConvolution\n",
      "creating: createXavier\n",
      "creating: createZeros\n",
      "creating: createSpatialBatchNormalization\n",
      "creating: createCAddTable\n",
      "creating: createReLU\n",
      "creating: createSpatialConvolution\n",
      "creating: createXavier\n",
      "creating: createZeros\n",
      "creating: createSpatialBatchNormalization\n",
      "creating: createReLU\n",
      "creating: createSpatialConvolution\n",
      "creating: createXavier\n",
      "creating: createZeros\n",
      "creating: createSpatialBatchNormalization\n",
      "creating: createReLU\n",
      "creating: createSpatialConvolution\n",
      "creating: createXavier\n",
      "creating: createZeros\n",
      "creating: createSpatialConvolution\n",
      "creating: createXavier\n",
      "creating: createZeros\n",
      "creating: createSpatialBatchNormalization\n",
      "creating: createSpatialBatchNormalization\n",
      "creating: createCAddTable\n",
      "creating: createReLU\n",
      "creating: createSpatialConvolution\n",
      "creating: createXavier\n",
      "creating: createZeros\n",
      "creating: createSpatialBatchNormalization\n",
      "creating: createReLU\n",
      "creating: createSpatialConvolution\n",
      "creating: createXavier\n",
      "creating: createZeros\n",
      "creating: createSpatialBatchNormalization\n",
      "creating: createReLU\n",
      "creating: createSpatialConvolution\n",
      "creating: createXavier\n",
      "creating: createZeros\n",
      "creating: createSpatialBatchNormalization\n",
      "creating: createCAddTable\n",
      "creating: createReLU\n",
      "creating: createSpatialConvolution\n",
      "creating: createXavier\n",
      "creating: createZeros\n",
      "creating: createSpatialBatchNormalization\n",
      "creating: createReLU\n",
      "creating: createSpatialConvolution\n",
      "creating: createXavier\n",
      "creating: createZeros\n",
      "creating: createSpatialBatchNormalization\n",
      "creating: createReLU\n",
      "creating: createSpatialConvolution\n",
      "creating: createXavier\n",
      "creating: createZeros\n",
      "creating: createSpatialBatchNormalization\n",
      "creating: createCAddTable\n",
      "creating: createReLU\n",
      "creating: createSpatialConvolution\n",
      "creating: createXavier\n",
      "creating: createZeros\n",
      "creating: createSpatialBatchNormalization\n",
      "creating: createReLU\n",
      "creating: createSpatialConvolution\n",
      "creating: createXavier\n",
      "creating: createZeros\n",
      "creating: createSpatialBatchNormalization\n",
      "creating: createReLU\n",
      "creating: createSpatialConvolution\n",
      "creating: createXavier\n",
      "creating: createZeros\n",
      "creating: createSpatialBatchNormalization\n",
      "creating: createCAddTable\n",
      "creating: createReLU\n",
      "creating: createSpatialConvolution\n",
      "creating: createXavier\n",
      "creating: createZeros\n",
      "creating: createSpatialBatchNormalization\n",
      "creating: createReLU\n",
      "creating: createSpatialConvolution\n",
      "creating: createXavier\n",
      "creating: createZeros\n",
      "creating: createSpatialBatchNormalization\n",
      "creating: createReLU\n",
      "creating: createSpatialConvolution\n",
      "creating: createXavier\n",
      "creating: createZeros\n",
      "creating: createSpatialConvolution\n",
      "creating: createXavier\n",
      "creating: createZeros\n",
      "creating: createSpatialBatchNormalization\n",
      "creating: createSpatialBatchNormalization\n",
      "creating: createCAddTable\n",
      "creating: createReLU\n",
      "creating: createSpatialConvolution\n",
      "creating: createXavier\n",
      "creating: createZeros\n",
      "creating: createSpatialBatchNormalization\n",
      "creating: createReLU\n",
      "creating: createSpatialConvolution\n",
      "creating: createXavier\n",
      "creating: createZeros\n",
      "creating: createSpatialBatchNormalization\n",
      "creating: createReLU\n",
      "creating: createSpatialConvolution\n",
      "creating: createXavier\n",
      "creating: createZeros\n",
      "creating: createSpatialBatchNormalization\n",
      "creating: createCAddTable\n",
      "creating: createReLU\n",
      "creating: createSpatialConvolution\n",
      "creating: createXavier\n",
      "creating: createZeros\n",
      "creating: createSpatialBatchNormalization\n",
      "creating: createReLU\n",
      "creating: createSpatialConvolution\n",
      "creating: createXavier\n",
      "creating: createZeros\n",
      "creating: createSpatialBatchNormalization\n",
      "creating: createReLU\n",
      "creating: createSpatialConvolution\n",
      "creating: createXavier\n",
      "creating: createZeros\n",
      "creating: createSpatialBatchNormalization\n",
      "creating: createCAddTable\n",
      "creating: createReLU\n",
      "creating: createSpatialConvolution\n",
      "creating: createXavier\n",
      "creating: createZeros\n",
      "creating: createSpatialBatchNormalization\n",
      "creating: createReLU\n",
      "creating: createSpatialConvolution\n",
      "creating: createXavier\n",
      "creating: createZeros\n",
      "creating: createSpatialBatchNormalization\n",
      "creating: createReLU\n",
      "creating: createSpatialConvolution\n",
      "creating: createXavier\n",
      "creating: createZeros\n",
      "creating: createSpatialBatchNormalization\n",
      "creating: createCAddTable\n",
      "creating: createReLU\n",
      "creating: createSpatialConvolution\n",
      "creating: createXavier\n",
      "creating: createZeros\n",
      "creating: createSpatialBatchNormalization\n",
      "creating: createReLU\n",
      "creating: createSpatialConvolution\n",
      "creating: createXavier\n",
      "creating: createZeros\n",
      "creating: createSpatialBatchNormalization\n",
      "creating: createReLU\n",
      "creating: createSpatialConvolution\n",
      "creating: createXavier\n",
      "creating: createZeros\n",
      "creating: createSpatialBatchNormalization\n",
      "creating: createCAddTable\n",
      "creating: createReLU\n",
      "creating: createSpatialConvolution\n",
      "creating: createXavier\n",
      "creating: createZeros\n",
      "creating: createSpatialBatchNormalization\n",
      "creating: createReLU\n",
      "creating: createSpatialConvolution\n",
      "creating: createXavier\n",
      "creating: createZeros\n",
      "creating: createSpatialBatchNormalization\n",
      "creating: createReLU\n",
      "creating: createSpatialConvolution\n",
      "creating: createXavier\n",
      "creating: createZeros\n",
      "creating: createSpatialBatchNormalization\n",
      "creating: createCAddTable\n",
      "creating: createReLU\n",
      "creating: createSpatialConvolution\n",
      "creating: createXavier\n",
      "creating: createZeros\n",
      "creating: createSpatialBatchNormalization\n",
      "creating: createReLU\n",
      "creating: createSpatialConvolution\n",
      "creating: createXavier\n",
      "creating: createZeros\n",
      "creating: createSpatialBatchNormalization\n",
      "creating: createReLU\n",
      "creating: createSpatialConvolution\n",
      "creating: createXavier\n",
      "creating: createZeros\n",
      "creating: createSpatialConvolution\n",
      "creating: createXavier\n",
      "creating: createZeros\n",
      "creating: createSpatialBatchNormalization\n",
      "creating: createSpatialBatchNormalization\n",
      "creating: createCAddTable\n",
      "creating: createReLU\n",
      "creating: createSpatialConvolution\n",
      "creating: createXavier\n",
      "creating: createZeros\n",
      "creating: createSpatialBatchNormalization\n",
      "creating: createReLU\n",
      "creating: createSpatialConvolution\n",
      "creating: createXavier\n",
      "creating: createZeros\n",
      "creating: createSpatialBatchNormalization\n",
      "creating: createReLU\n",
      "creating: createSpatialConvolution\n",
      "creating: createXavier\n",
      "creating: createZeros\n",
      "creating: createSpatialBatchNormalization\n",
      "creating: createCAddTable\n",
      "creating: createReLU\n",
      "creating: createSpatialConvolution\n",
      "creating: createXavier\n",
      "creating: createZeros\n",
      "creating: createSpatialBatchNormalization\n",
      "creating: createReLU\n",
      "creating: createSpatialConvolution\n",
      "creating: createXavier\n",
      "creating: createZeros\n",
      "creating: createSpatialBatchNormalization\n",
      "creating: createReLU\n",
      "creating: createSpatialConvolution\n",
      "creating: createXavier\n",
      "creating: createZeros\n",
      "creating: createSpatialBatchNormalization\n",
      "creating: createCAddTable\n",
      "creating: createReLU\n",
      "creating: createSpatialAveragePooling\n",
      "creating: createReshape\n",
      "creating: createLinear\n",
      "creating: createXavier\n",
      "creating: createZeros\n",
      "creating: createSoftMax\n",
      "creating: createSequential\n",
      "creating: createModel\n"
     ]
    }
   ],
   "source": [
    "bmodel = DefinitionLoader.from_kmodel(keras_model)\n",
    "WeightLoader.load_weights_from_kmodel(bmodel, keras_model)"
   ]
  },
  {
   "cell_type": "markdown",
   "metadata": {},
   "source": [
    "* Load data into ImageFrame"
   ]
  },
  {
   "cell_type": "code",
   "execution_count": 6,
   "metadata": {
    "collapsed": true
   },
   "outputs": [],
   "source": [
    "image_frame = ImageFrame.read(\"image-net\", sc=sc)"
   ]
  },
  {
   "cell_type": "markdown",
   "metadata": {},
   "source": [
    "* Define prepocess transformer"
   ]
  },
  {
   "cell_type": "code",
   "execution_count": 7,
   "metadata": {},
   "outputs": [
    {
     "name": "stdout",
     "output_type": "stream",
     "text": [
      "creating: createBytesToMat\n",
      "creating: createResize\n",
      "creating: createCenterCrop\n",
      "creating: createChannelNormalize\n",
      "creating: createMatToTensor\n",
      "creating: createImageFrameToSample\n",
      "creating: createPipeline\n"
     ]
    }
   ],
   "source": [
    "transformer = Pipeline([BytesToMat(), Resize(256, 256),\n",
    "                        CenterCrop(224, 224),\n",
    "                        ChannelNormalize(123.68, 103.939, 116.779),\n",
    "                        MatToTensor(), ImageFrameToSample()])"
   ]
  },
  {
   "cell_type": "markdown",
   "metadata": {},
   "source": [
    "* Run prediction"
   ]
  },
  {
   "cell_type": "code",
   "execution_count": 8,
   "metadata": {
    "ExecuteTime": {
     "end_time": "2018-04-03T10:14:49.401336Z",
     "start_time": "2018-04-03T10:14:24.584480Z"
    },
    "collapsed": true
   },
   "outputs": [],
   "source": [
    "preds_frame = bmodel.predict_image(image_frame.transform(transformer))"
   ]
  },
  {
   "cell_type": "markdown",
   "metadata": {},
   "source": [
    "* Show result of the first image"
   ]
  },
  {
   "cell_type": "code",
   "execution_count": 9,
   "metadata": {
    "ExecuteTime": {
     "end_time": "2018-04-03T10:14:53.330368Z",
     "start_time": "2018-04-03T10:14:49.404042Z"
    }
   },
   "outputs": [
    {
     "name": "stdout",
     "output_type": "stream",
     "text": [
      "Downloading data from https://s3.amazonaws.com/deep-learning-models/image-models/imagenet_class_index.json\n",
      "Prediction for file:/home/lizhichao/bin/god/tzoo/notebooks/part2/image-net/158516268_796c3e047d.jpg\n",
      "    1. sorrel: 96.77%\n",
      "    2. ox: 0.72%\n",
      "    3. llama: 0.52%\n",
      "    4. gazelle: 0.42%\n",
      "    5. basenji: 0.23%\n"
     ]
    }
   ],
   "source": [
    "preds = preds_frame.get_predict().take(1)\n",
    "\n",
    "for pre in preds:\n",
    "    path, pre_score = pre\n",
    "    P = imagenet_utils.decode_predictions(np.expand_dims(pre_score, axis=0))\n",
    "    print(\"Prediction for {}\".format(path))\n",
    "    # Display the top-5 prediction\n",
    "    for (i, (imagenetID, label, prob)) in enumerate(P[0]):\n",
    "        print(\"    {}. {}: {:.2f}%\".format(i + 1, label, prob * 100))"
   ]
  },
  {
   "cell_type": "markdown",
   "metadata": {},
   "source": [
    "* While the origin image is\n",
    "![scalars](image-net/158516268_796c3e047d.jpg)"
   ]
  },
  {
   "cell_type": "code",
   "execution_count": null,
   "metadata": {
    "collapsed": true
   },
   "outputs": [],
   "source": []
  }
 ],
 "metadata": {
  "kernelspec": {
   "display_name": "Python 2",
   "language": "python",
   "name": "python2"
  },
  "language_info": {
   "codemirror_mode": {
    "name": "ipython",
    "version": 2
   },
   "file_extension": ".py",
   "mimetype": "text/x-python",
   "name": "python",
   "nbconvert_exporter": "python",
   "pygments_lexer": "ipython2",
   "version": "2.7.6"
  },
  "toc": {
   "colors": {
    "hover_highlight": "#DAA520",
    "navigate_num": "#000000",
    "navigate_text": "#333333",
    "running_highlight": "#FF0000",
    "selected_highlight": "#FFD700",
    "sidebar_border": "#EEEEEE",
    "wrapper_background": "#FFFFFF"
   },
   "moveMenuLeft": true,
   "nav_menu": {},
   "navigate_menu": true,
   "number_sections": true,
   "sideBar": true,
   "skip_h1_title": false,
   "threshold": 4,
   "toc_cell": false,
   "toc_position": {},
   "toc_section_display": "block",
   "toc_window_display": true,
   "widenNotebook": false
  }
 },
 "nbformat": 4,
 "nbformat_minor": 2
}
