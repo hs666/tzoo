{
 "cells": [
  {
   "cell_type": "markdown",
   "metadata": {},
   "source": [
    "# Handwritten Digit Classfication using Convolutional Neural Network"
   ]
  },
  {
   "cell_type": "markdown",
   "metadata": {},
   "source": [
    "The tutorial presented will again tackle the MNIST digit classification problem. You can find more information from the previous [MNIST introduction](introduction_to_mnist.ipynb) tutorial. This time, we will build a Convolutional Neural Network which is vastly used in many different applications. CNN are networks with loops in them, allowing information to persist. Take a look at [this great blog](https://adeshpande3.github.io/adeshpande3.github.io/A-Beginner%27s-Guide-To-Understanding-Convolutional-Neural-Networks/) to gain insights of CNN."
   ]
  },
  {
   "cell_type": "code",
   "execution_count": 1,
   "metadata": {},
   "outputs": [
    {
     "name": "stdout",
     "output_type": "stream",
     "text": [
      "Populating the interactive namespace from numpy and matplotlib\n",
      "Using /home/lizhichao/bin/spark-2.1.0-bin-hadoop2.7\n",
      "Adding /home/lizhichao/bin/god/zoo/dist/lib/zoo-0.1.0-SNAPSHOT-jar-with-dependencies.jar to BIGDL_JARS\n",
      "Adding /home/lizhichao/bin/god/zoo/dist/lib/zoo-0.1.0-SNAPSHOT-jar-with-dependencies.jar to SPARK_CLASSPATH\n"
     ]
    }
   ],
   "source": [
    "import matplotlib\n",
    "%pylab inline\n",
    "\n",
    "import pandas\n",
    "import datetime as dt\n",
    "\n",
    "from bigdl.nn.criterion import *\n",
    "from bigdl.dataset.transformer import *\n",
    "from bigdl.dataset import mnist\n",
    "from matplotlib.pyplot import imshow\n",
    "import matplotlib.pyplot as plt\n",
    "from pyspark import SparkContext\n",
    "\n",
    "from zoo.common.nncontext import *\n",
    "from zoo.pipeline.api.keras.layers import *\n",
    "from zoo.pipeline.api.keras.models import *\n",
    "from zoo.pipeline.api.autograd import *\n",
    "\n",
    "sc = get_nncontext()"
   ]
  },
  {
   "cell_type": "code",
   "execution_count": 5,
   "metadata": {
    "collapsed": true
   },
   "outputs": [],
   "source": [
    "def get_mnist(sc, mnist_path):\n",
    "    # target is start from 0,\n",
    "    (train_images, train_labels) = mnist.read_data_sets(mnist_path, \"train\")\n",
    "    (test_images, test_labels) = mnist.read_data_sets(mnist_path, \"test\")\n",
    "    training_mean = np.mean(train_images)\n",
    "    training_std = np.std(train_images)\n",
    "    rdd_train_images = sc.parallelize(train_images)\n",
    "    rdd_train_labels = sc.parallelize(train_labels)\n",
    "    rdd_test_images = sc.parallelize(test_images)\n",
    "    rdd_test_labels = sc.parallelize(test_labels)\n",
    "    \n",
    "    rdd_train_sample = rdd_train_images.zip(rdd_train_labels).map(lambda (features, label):\n",
    "                    Sample.from_ndarray((features - training_mean)/training_std, label + 1))\n",
    "    rdd_test_sample = rdd_test_images.zip(rdd_test_labels).map(lambda (features, label):\n",
    "                    Sample.from_ndarray((features - training_mean)/training_std, label + 1))\n",
    "    return (rdd_train_sample, rdd_test_sample)"
   ]
  },
  {
   "cell_type": "markdown",
   "metadata": {},
   "source": [
    "## 1. Train the network"
   ]
  },
  {
   "cell_type": "markdown",
   "metadata": {},
   "source": [
    "First, we should get and store MNIST into RDD of Sample."
   ]
  },
  {
   "cell_type": "markdown",
   "metadata": {},
   "source": [
    "Note: *edit the \"mnist_path\" accordingly. If the \"mnist_path\" directory does not consist of the mnist data, mnist.read_data_sets method will download the dataset directly to the directory*."
   ]
  },
  {
   "cell_type": "code",
   "execution_count": 6,
   "metadata": {},
   "outputs": [
    {
     "name": "stdout",
     "output_type": "stream",
     "text": [
      "('Extracting', '/tmp/.keras/datasets/mnist/train-images-idx3-ubyte.gz')\n",
      "('Extracting', '/tmp/.keras/datasets/mnist/train-labels-idx1-ubyte.gz')\n",
      "('Extracting', '/tmp/.keras/datasets/mnist/t10k-images-idx3-ubyte.gz')\n",
      "('Extracting', '/tmp/.keras/datasets/mnist/t10k-labels-idx1-ubyte.gz')\n",
      "60000\n",
      "10000\n"
     ]
    }
   ],
   "source": [
    "# Get and store MNIST into RDD of Sample, please edit the \"mnist_path\" accordingly.\n",
    "mnist_path = \"/tmp/.keras/datasets/mnist\"\n",
    "(train_data, test_data) = get_mnist(sc, mnist_path)\n",
    "\n",
    "print train_data.count()\n",
    "print test_data.count()"
   ]
  },
  {
   "cell_type": "markdown",
   "metadata": {},
   "source": [
    "## 2. Model creation"
   ]
  },
  {
   "cell_type": "markdown",
   "metadata": {},
   "source": [
    "Let's create the LeNet-5 model."
   ]
  },
  {
   "cell_type": "code",
   "execution_count": 21,
   "metadata": {},
   "outputs": [
    {
     "name": "stdout",
     "output_type": "stream",
     "text": [
      "creating: createZooKerasInput\n",
      "creating: createZooKerasReshape\n",
      "creating: createZooKerasConvolution2D\n",
      "creating: createZooKerasMaxPooling2D\n",
      "creating: createZooKerasConvolution2D\n",
      "creating: createZooKerasMaxPooling2D\n",
      "creating: createZooKerasFlatten\n",
      "creating: createZooKerasDense\n",
      "creating: createZooKerasDense\n",
      "creating: createZooKerasModel\n"
     ]
    }
   ],
   "source": [
    "def build_model(class_num):\n",
    "    input1 = Input((28, 28, 1))\n",
    "    reshape = Reshape((1, 28, 28))(input1)\n",
    "    conv1 = Convolution2D(6, 5, 5, activation=\"tanh\", name=\"conv1_5x5\")(reshape)\n",
    "    pool1 = MaxPooling2D()(conv1)\n",
    "    conv2 = Convolution2D(12, 5, 5, activation=\"tanh\", name=\"conv2_5x5\")(pool1)\n",
    "    pool2 = MaxPooling2D()(conv2)\n",
    "    flatten = Flatten()(pool2)\n",
    "    fc1 = Dense(100, activation=\"tanh\", name=\"fc1\")(flatten)\n",
    "    fc2 = Dense(class_num, activation=\"softmax\", name=\"fc2\")(fc1)\n",
    "    return Model(input1, fc2)\n",
    "\n",
    "lenet_model = build_model(10)"
   ]
  },
  {
   "cell_type": "markdown",
   "metadata": {},
   "source": [
    "## 3. Optimizer setup and training"
   ]
  },
  {
   "cell_type": "code",
   "execution_count": 23,
   "metadata": {},
   "outputs": [
    {
     "name": "stdout",
     "output_type": "stream",
     "text": [
      "creating: createDefault\n",
      "creating: createSGD\n",
      "creating: createClassNLLCriterion\n",
      "creating: createTop1Accuracy\n",
      "saving logs to  lenet-20180509-171234\n"
     ]
    }
   ],
   "source": [
    "# Compile the model\n",
    "lenet_model.compile(optimizer=SGD(learningrate=0.4, learningrate_decay=0.0002),\n",
    "                  loss=ClassNLLCriterion(logProbAsInput=False),\n",
    "                  metrics=[\"accuracy\"])\n",
    "app_name='lenet-'+dt.datetime.now().strftime(\"%Y%m%d-%H%M%S\")\n",
    "log_dir = '/tmp/zoo_summaries'\n",
    "lenet_model.set_tensorboard(log_dir, app_name)\n",
    "lenet_model.save_graph_topology(log_dir)\n",
    "print \"saving logs to \",app_name"
   ]
  },
  {
   "cell_type": "markdown",
   "metadata": {},
   "source": [
    "* Train the network. Wait some time till it finished.. Voila! You've got a trained model"
   ]
  },
  {
   "cell_type": "code",
   "execution_count": 24,
   "metadata": {},
   "outputs": [
    {
     "name": "stdout",
     "output_type": "stream",
     "text": [
      "CPU times: user 20 ms, sys: 0 ns, total: 20 ms\n",
      "Wall time: 1min 54s\n"
     ]
    }
   ],
   "source": [
    "%%time\n",
    "# Boot training process\n",
    "lenet_model.fit(x=train_data,\n",
    "              batch_size=2048,\n",
    "              nb_epoch=20,\n",
    "              validation_data=test_data)"
   ]
  },
  {
   "cell_type": "markdown",
   "metadata": {},
   "source": [
    "## 4. Predication on test data"
   ]
  },
  {
   "cell_type": "code",
   "execution_count": 12,
   "metadata": {
    "collapsed": true
   },
   "outputs": [],
   "source": [
    "def map_predict_label(l):\n",
    "    return np.array(l).argmax()\n",
    "def map_groundtruth_label(l):\n",
    "    return l[0] - 1"
   ]
  },
  {
   "cell_type": "markdown",
   "metadata": {},
   "source": [
    "Let's first take a few traing samples and check the labels"
   ]
  },
  {
   "cell_type": "code",
   "execution_count": 13,
   "metadata": {},
   "outputs": [
    {
     "name": "stdout",
     "output_type": "stream",
     "text": [
      "Ground Truth labels:\n",
      "5.0, 0.0, 4.0, 1.0, 9.0, 2.0, 1.0, 3.0\n"
     ]
    },
    {
     "data": {
      "text/plain": [
       "(-0.5, 223.5, 27.5, -0.5)"
      ]
     },
     "execution_count": 13,
     "metadata": {},
     "output_type": "execute_result"
    },
    {
     "data": {
      "image/png": "[encoded data removed]",
      "text/plain": [
       "<matplotlib.figure.Figure at 0x7f0a50ffea50>"
      ]
     },
     "metadata": {},
     "output_type": "display_data"
    }
   ],
   "source": [
    "# label-1 to restore the original label.\n",
    "print \"Ground Truth labels:\" \n",
    "print ', '.join([str(map_groundtruth_label(s.label.to_ndarray())) for s in train_data.take(8)])\n",
    "imshow(np.column_stack([np.array(s.features[0].to_ndarray()).reshape(28,28) for s in train_data.take(8)]),cmap='gray'); plt.axis('off')"
   ]
  },
  {
   "cell_type": "markdown",
   "metadata": {},
   "source": [
    "Now, let's see the prediction results on test data by our trained model."
   ]
  },
  {
   "cell_type": "code",
   "execution_count": 15,
   "metadata": {},
   "outputs": [
    {
     "name": "stdout",
     "output_type": "stream",
     "text": [
      "Ground Truth labels:\n",
      "7.0, 2.0, 1.0, 0.0, 4.0, 1.0, 4.0, 9.0\n",
      "Predicted labels:\n",
      "7, 2, 1, 0, 4, 1, 4, 9\n",
      "CPU times: user 32 ms, sys: 4 ms, total: 36 ms\n",
      "Wall time: 548 ms\n"
     ]
    },
    {
     "data": {
      "image/png": "[encoded data removed]",
      "text/plain": [
       "<matplotlib.figure.Figure at 0x7f0a508bef50>"
      ]
     },
     "metadata": {},
     "output_type": "display_data"
    }
   ],
   "source": [
    "%%time\n",
    "predictions = lenet_model.predict(test_data)\n",
    "imshow(np.column_stack([np.array(s.features[0].to_ndarray()).reshape(28,28) for s in test_data.take(8)]),cmap='gray'); plt.axis('off')\n",
    "print 'Ground Truth labels:'\n",
    "print ', '.join(str(map_groundtruth_label(s.label.to_ndarray())) for s in test_data.take(8))\n",
    "print 'Predicted labels:'\n",
    "print ', '.join(str(map_predict_label(s)) for s in predictions.take(8))"
   ]
  },
  {
   "cell_type": "markdown",
   "metadata": {},
   "source": [
    "## 5. Model inspection"
   ]
  },
  {
   "cell_type": "code",
   "execution_count": 25,
   "metadata": {
    "collapsed": true
   },
   "outputs": [],
   "source": [
    "#tensorboard --logdir=/tmp/zoo_summaries"
   ]
  },
  {
   "cell_type": "code",
   "execution_count": null,
   "metadata": {
    "collapsed": true
   },
   "outputs": [],
   "source": []
  }
 ],
 "metadata": {
  "kernelspec": {
   "display_name": "Python 2",
   "language": "python",
   "name": "python2"
  },
  "language_info": {
   "codemirror_mode": {
    "name": "ipython",
    "version": 2
   },
   "file_extension": ".py",
   "mimetype": "text/x-python",
   "name": "python",
   "nbconvert_exporter": "python",
   "pygments_lexer": "ipython2",
   "version": "2.7.6"
  },
  "toc": {
   "colors": {
    "hover_highlight": "#DAA520",
    "navigate_num": "#000000",
    "navigate_text": "#333333",
    "running_highlight": "#FF0000",
    "selected_highlight": "#FFD700",
    "sidebar_border": "#EEEEEE",
    "wrapper_background": "#FFFFFF"
   },
   "moveMenuLeft": true,
   "nav_menu": {
    "height": "139px",
    "width": "252px"
   },
   "navigate_menu": true,
   "number_sections": true,
   "sideBar": true,
   "threshold": 4,
   "toc_cell": false,
   "toc_section_display": "block",
   "toc_window_display": true,
   "widenNotebook": false
  }
 },
 "nbformat": 4,
 "nbformat_minor": 2
}
